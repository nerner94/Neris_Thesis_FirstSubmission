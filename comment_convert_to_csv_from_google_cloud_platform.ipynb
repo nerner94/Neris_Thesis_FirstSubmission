{
  "nbformat": 4,
  "nbformat_minor": 0,
  "metadata": {
    "colab": {
      "name": "comment convert to csv from google cloud platform.ipynb",
      "provenance": [],
      "collapsed_sections": []
    },
    "kernelspec": {
      "name": "python3",
      "display_name": "Python 3"
    },
    "language_info": {
      "name": "python"
    },
    "accelerator": "GPU"
  },
  "cells": [
    {
      "cell_type": "code",
      "metadata": {
        "id": "Pwyy939LiERK"
      },
      "source": [
        "import os\n",
        "import pandas as pd\n",
        "import numpy as np\n",
        "from google.colab import drive "
      ],
      "execution_count": null,
      "outputs": []
    },
    {
      "cell_type": "code",
      "metadata": {
        "colab": {
          "base_uri": "https://localhost:8080/"
        },
        "id": "gAK6W66znpqL",
        "outputId": "8978c9e9-2a81-4573-bab6-fa8c3fa061c9"
      },
      "source": [
        "drive.mount(\"/content/drive\")"
      ],
      "execution_count": null,
      "outputs": [
        {
          "output_type": "stream",
          "text": [
            "Mounted at /content/drive\n"
          ],
          "name": "stdout"
        }
      ]
    },
    {
      "cell_type": "code",
      "metadata": {
        "id": "Ov_5Rr-Wnu1I"
      },
      "source": [
        "os.chdir(\"/content/drive/MyDrive/THESIS\")"
      ],
      "execution_count": null,
      "outputs": []
    },
    {
      "cell_type": "code",
      "metadata": {
        "id": "brsS4TA0L6Fa"
      },
      "source": [
        "comment0_crazy = np.fromfile(\"/content/drive/MyDrive/THESIS/Comment retrievals/attempt_2304-000000000000\", dtype = \"|S273572875\")\n",
        "comment1_crazy = np.fromfile(\"/content/drive/MyDrive/THESIS/Comment retrievals/attempt_2304-000000000001\", dtype = \"|S273708884\")\n",
        "comment2_crazy = np.fromfile(\"/content/drive/MyDrive/THESIS/Comment retrievals/attempt_2304-000000000002\", dtype = \"|S274702093\")"
      ],
      "execution_count": null,
      "outputs": []
    },
    {
      "cell_type": "code",
      "metadata": {
        "id": "RZnhaZw2VF_-"
      },
      "source": [
        "comment0_crazy_utf = comment0_crazy[0].decode(\"utf-8\")"
      ],
      "execution_count": null,
      "outputs": []
    },
    {
      "cell_type": "code",
      "metadata": {
        "colab": {
          "base_uri": "https://localhost:8080/",
          "height": 120
        },
        "id": "kiuURBCOVP39",
        "outputId": "e3855906-4250-4ffd-e787-1cb462573429"
      },
      "source": [
        "comment0_crazy_utf[0:1000]"
      ],
      "execution_count": null,
      "outputs": [
        {
          "output_type": "execute_result",
          "data": {
            "application/vnd.google.colaboratory.intrinsic+json": {
              "type": "string"
            },
            "text/plain": [
              "'body\\nSS:  Jade Helm is welcomed now.  But what if the Presidential Text had a hidden .jpg with secret instructions from Putin or Pizzagate Kiddie Porn?\\n\"At first, when I heard about the march, I thought that it could be good and would help us. But after Alex Jones showed his support...I don\\'t know. I just don\\'t trust him at all. I can see the CIA put a guy into the group and just begin shooting, thus granting the police to shoot back and it would erupt the biggest shootout. Then, more of our freedom would be taken away. This march just doesn\\'t appear smart in any way.\"\\nLooks that way to me. Watch the speech he gave last night. He doesn\\'t believe any of it.\\n\"Sincerely from an american-- this country is lead by Israel.  Israeli dual citizens have key positions of power in our government and media.  They are even trying to now stifle free speech, while most just want to watch sports and pretend it isn\\'t happening.  \\n\\n&gt;Wtf is going on?\\n\\nMom and pop american is dumbed down and manipulate'"
            ]
          },
          "metadata": {
            "tags": []
          },
          "execution_count": 6
        }
      ]
    },
    {
      "cell_type": "code",
      "metadata": {
        "id": "llnJOYIJRfOh"
      },
      "source": [
        "comment1_crazy_utf = comment1_crazy[0].decode(\"utf-8\")"
      ],
      "execution_count": null,
      "outputs": []
    },
    {
      "cell_type": "code",
      "metadata": {
        "colab": {
          "base_uri": "https://localhost:8080/",
          "height": 120
        },
        "id": "df1AR1caRigL",
        "outputId": "e44c73bd-048b-4ef4-ed19-1386e60ce2de"
      },
      "source": [
        "comment1_crazy_utf[0:1000]"
      ],
      "execution_count": null,
      "outputs": [
        {
          "output_type": "execute_result",
          "data": {
            "application/vnd.google.colaboratory.intrinsic+json": {
              "type": "string"
            },
            "text/plain": [
              "'body\\n\"Still doesn’t explain why they would come back and talk about the long ago promotion when the recent one was the pertinent one for this matter. \\n\\nWhy so repetitive?  \"\\nWhat? The wikipedia page clearly shows all the versions and is the first result. I really don\\'t think that Google is trying to trick people into reading an old version of the pledge\\n\"Every major news outlet in the Country is reporting on it, but apparently that doesn\\'t count as evidence to you.  So consider this, the enrollment at Santa Fe High School is 1,400, how many of these 1,400 students have spoken up and said this is fake?  The injured were taken to and treated at University of Texas Medical Branch (11,000 employees) and Clear Lake Regional Medical Center (2,900 employees), have any said this didn\\'t happen?  Then you have the police department, EMS and fire department that responded, which ones called this event fake?  This doesn\\'t even mention the family members of all the students there, or staff within t'"
            ]
          },
          "metadata": {
            "tags": []
          },
          "execution_count": 8
        }
      ]
    },
    {
      "cell_type": "code",
      "metadata": {
        "id": "TSTHYbgkRiTj"
      },
      "source": [
        "comment2_crazy_utf = comment2_crazy[0].decode(\"utf-8\")"
      ],
      "execution_count": null,
      "outputs": []
    },
    {
      "cell_type": "code",
      "metadata": {
        "colab": {
          "base_uri": "https://localhost:8080/",
          "height": 120
        },
        "id": "PkLXfA19RkMq",
        "outputId": "a57c420f-b6b2-4ade-a4ea-29c1f549210e"
      },
      "source": [
        "comment2_crazy_utf[0:1000]"
      ],
      "execution_count": null,
      "outputs": [
        {
          "output_type": "execute_result",
          "data": {
            "application/vnd.google.colaboratory.intrinsic+json": {
              "type": "string"
            },
            "text/plain": [
              "'body\\nLet me guess.  Hilary and bill are on the run.  Humas passport has been revoked and she\\'s wounded.  And the podesta\\'s D.U.M.B. is bring breached by marines with cutting torches? \\n\"Very good advice. People that chew their food fully also allow their pallet(taste buds) to stay excited, engaged in the experience. Slower, leisurely eating also helps you maintain your weight or helps with *weight loss*! \\n\\n\\n\"\\nThe government is not set up for our benefit.\\n\"In America it might be. In Europe it\\'s really, really uncommon among people who are not jews or muslims. Unless of course it\\'s for some real medical reason.\"\\n\"Washington post reports a story and OP posts a pile of lies for a title.  \\n\\n\"\\nTo Moms everywhere cheers\\nWas anyone on the left trying to smear the Sheriff?\\n\"&gt;No, I got the story right. You got the fanfic version.  \\n\\nReligion in a nutshell\"\\n\"That was something I never read about, thanks.  Very interesting.\"\\nLike $5 foot longs \\n#make the crusades great again\\nEstablish the narrat'"
            ]
          },
          "metadata": {
            "tags": []
          },
          "execution_count": 10
        }
      ]
    },
    {
      "cell_type": "markdown",
      "metadata": {
        "id": "c4Rf-s-0vorJ"
      },
      "source": [
        "Replacing quotation marks within the comments"
      ]
    },
    {
      "cell_type": "code",
      "metadata": {
        "id": "AaZmNpo_onSj"
      },
      "source": [
        "comment0_crazy_quote = comment0_crazy_utf.replace('\"\"', '$')"
      ],
      "execution_count": null,
      "outputs": []
    },
    {
      "cell_type": "code",
      "metadata": {
        "id": "xUFfjxD9ovHJ"
      },
      "source": [
        "comment1_crazy_quote = comment1_crazy_utf.replace('\"\"', '$')"
      ],
      "execution_count": null,
      "outputs": []
    },
    {
      "cell_type": "code",
      "metadata": {
        "id": "aw3QdSQeousS"
      },
      "source": [
        "comment2_crazy_quote = comment2_crazy_utf.replace('\"\"', '$')"
      ],
      "execution_count": null,
      "outputs": []
    },
    {
      "cell_type": "markdown",
      "metadata": {
        "id": "R8bxOtvYv42V"
      },
      "source": [
        "Creating lists of posts - they still need text cleaning"
      ]
    },
    {
      "cell_type": "code",
      "metadata": {
        "colab": {
          "base_uri": "https://localhost:8080/"
        },
        "id": "zIuuO4KjVZ6D",
        "outputId": "53e435a7-56ec-4092-f258-63710d45ee15"
      },
      "source": [
        "comment0_list = comment0_crazy_quote.split(sep = '\"')\n",
        "len(comment0_list)"
      ],
      "execution_count": null,
      "outputs": [
        {
          "output_type": "execute_result",
          "data": {
            "text/plain": [
              "1326047"
            ]
          },
          "metadata": {
            "tags": []
          },
          "execution_count": 14
        }
      ]
    },
    {
      "cell_type": "code",
      "metadata": {
        "colab": {
          "base_uri": "https://localhost:8080/"
        },
        "id": "2D10JgKKWGlF",
        "outputId": "436479b0-dde6-4680-d0dc-b81d58d1e0b7"
      },
      "source": [
        "comment1_list = comment1_crazy_quote.split(sep = '\"')\n",
        "len(comment1_list)"
      ],
      "execution_count": null,
      "outputs": [
        {
          "output_type": "execute_result",
          "data": {
            "text/plain": [
              "1327215"
            ]
          },
          "metadata": {
            "tags": []
          },
          "execution_count": 15
        }
      ]
    },
    {
      "cell_type": "code",
      "metadata": {
        "colab": {
          "base_uri": "https://localhost:8080/"
        },
        "id": "d--tHJvveAOZ",
        "outputId": "1955650b-08d6-402e-9b63-44349e8ea4eb"
      },
      "source": [
        "comment2_list = comment2_crazy_quote.split(sep = '\"')\n",
        "len(comment2_list)"
      ],
      "execution_count": null,
      "outputs": [
        {
          "output_type": "execute_result",
          "data": {
            "text/plain": [
              "1327221"
            ]
          },
          "metadata": {
            "tags": []
          },
          "execution_count": 16
        }
      ]
    },
    {
      "cell_type": "code",
      "metadata": {
        "id": "-j0Jl2dPxAem"
      },
      "source": [
        "comment012_list = comment0_list + comment1_list + comment2_list \n",
        "\n",
        "comments_012 = pd.Series(comment012_list)"
      ],
      "execution_count": null,
      "outputs": []
    },
    {
      "cell_type": "code",
      "metadata": {
        "id": "RBJfQHyHxVFF"
      },
      "source": [
        "comments_012.to_csv(\"comments_012_may5_version2.csv\")"
      ],
      "execution_count": null,
      "outputs": []
    },
    {
      "cell_type": "code",
      "metadata": {
        "colab": {
          "base_uri": "https://localhost:8080/"
        },
        "id": "Be0R-WSZVSqC",
        "outputId": "4855919e-9300-4e6f-b24e-8b4c5745a8f4"
      },
      "source": [
        "comments_reread = pd.read_csv(\"/content/drive/MyDrive/THESIS/comments_012_may5_version2.csv\")"
      ],
      "execution_count": null,
      "outputs": [
        {
          "output_type": "stream",
          "text": [
            "/usr/local/lib/python3.7/dist-packages/IPython/core/interactiveshell.py:2718: DtypeWarning: Columns (0,1) have mixed types.Specify dtype option on import or set low_memory=False.\n",
            "  interactivity=interactivity, compiler=compiler, result=result)\n"
          ],
          "name": "stderr"
        }
      ]
    },
    {
      "cell_type": "code",
      "metadata": {
        "colab": {
          "base_uri": "https://localhost:8080/",
          "height": 195
        },
        "id": "3OhuMbgKVrXd",
        "outputId": "6a803c4d-fe73-4d22-fdc2-f305c2818030"
      },
      "source": [
        "comments_reread.head()"
      ],
      "execution_count": null,
      "outputs": [
        {
          "output_type": "execute_result",
          "data": {
            "text/html": [
              "<div>\n",
              "<style scoped>\n",
              "    .dataframe tbody tr th:only-of-type {\n",
              "        vertical-align: middle;\n",
              "    }\n",
              "\n",
              "    .dataframe tbody tr th {\n",
              "        vertical-align: top;\n",
              "    }\n",
              "\n",
              "    .dataframe thead th {\n",
              "        text-align: right;\n",
              "    }\n",
              "</style>\n",
              "<table border=\"1\" class=\"dataframe\">\n",
              "  <thead>\n",
              "    <tr style=\"text-align: right;\">\n",
              "      <th></th>\n",
              "      <th>Unnamed: 0</th>\n",
              "      <th>0</th>\n",
              "    </tr>\n",
              "  </thead>\n",
              "  <tbody>\n",
              "    <tr>\n",
              "      <th>0</th>\n",
              "      <td>0</td>\n",
              "      <td>body\\nSS:  Jade Helm is welcomed now.  But wha...</td>\n",
              "    </tr>\n",
              "    <tr>\n",
              "      <th>1</th>\n",
              "      <td>1</td>\n",
              "      <td>At first, when I heard about the march, I thou...</td>\n",
              "    </tr>\n",
              "    <tr>\n",
              "      <th>2</th>\n",
              "      <td>2</td>\n",
              "      <td>\\nLooks that way to me. Watch the speech he ga...</td>\n",
              "    </tr>\n",
              "    <tr>\n",
              "      <th>3</th>\n",
              "      <td>3</td>\n",
              "      <td>Sincerely from an american-- this country is l...</td>\n",
              "    </tr>\n",
              "    <tr>\n",
              "      <th>4</th>\n",
              "      <td>4</td>\n",
              "      <td>\\nThis sub would an apocalyptic wasteland if t...</td>\n",
              "    </tr>\n",
              "  </tbody>\n",
              "</table>\n",
              "</div>"
            ],
            "text/plain": [
              "  Unnamed: 0                                                  0\n",
              "0          0  body\\nSS:  Jade Helm is welcomed now.  But wha...\n",
              "1          1  At first, when I heard about the march, I thou...\n",
              "2          2  \\nLooks that way to me. Watch the speech he ga...\n",
              "3          3  Sincerely from an american-- this country is l...\n",
              "4          4  \\nThis sub would an apocalyptic wasteland if t..."
            ]
          },
          "metadata": {
            "tags": []
          },
          "execution_count": 20
        }
      ]
    },
    {
      "cell_type": "code",
      "metadata": {
        "colab": {
          "base_uri": "https://localhost:8080/",
          "height": 35
        },
        "id": "j3MQ7JprV2E1",
        "outputId": "030fae53-88c4-4ffa-8af6-48d14423ada1"
      },
      "source": [
        "comments_reread.iloc[0, :]"
      ],
      "execution_count": null,
      "outputs": [
        {
          "output_type": "execute_result",
          "data": {
            "application/vnd.google.colaboratory.intrinsic+json": {
              "type": "string"
            },
            "text/plain": [
              "'body\\nSS:  Jade Helm is welcomed now.  But what if the Presidential Text had a hidden .jpg with secret instructions from Putin or Pizzagate Kiddie Porn?\\n'"
            ]
          },
          "metadata": {
            "tags": []
          },
          "execution_count": 21
        }
      ]
    },
    {
      "cell_type": "code",
      "metadata": {
        "id": "MjC6Hzm1V6Og"
      },
      "source": [
        ""
      ],
      "execution_count": null,
      "outputs": []
    }
  ]
}