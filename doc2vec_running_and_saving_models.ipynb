{
  "nbformat": 4,
  "nbformat_minor": 0,
  "metadata": {
    "colab": {
      "name": "doc2vec running and saving models.ipynb",
      "provenance": []
    },
    "kernelspec": {
      "name": "python3",
      "display_name": "Python 3"
    },
    "language_info": {
      "name": "python"
    }
  },
  "cells": [
    {
      "cell_type": "code",
      "metadata": {
        "colab": {
          "base_uri": "https://localhost:8080/"
        },
        "id": "gH8Oe-0Y1Fky",
        "outputId": "02d977d6-df64-4f2c-ec1a-2e086bf75cd7"
      },
      "source": [
        "from google.colab import drive\n",
        "drive.mount(\"/content/drive\")"
      ],
      "execution_count": null,
      "outputs": [
        {
          "output_type": "stream",
          "text": [
            "Drive already mounted at /content/drive; to attempt to forcibly remount, call drive.mount(\"/content/drive\", force_remount=True).\n"
          ],
          "name": "stdout"
        }
      ]
    },
    {
      "cell_type": "code",
      "metadata": {
        "id": "i_fHhECo4YFg"
      },
      "source": [
        "import os \n",
        "os.chdir(\"/content/drive/MyDrive/THESIS_May15\")"
      ],
      "execution_count": null,
      "outputs": []
    },
    {
      "cell_type": "code",
      "metadata": {
        "colab": {
          "base_uri": "https://localhost:8080/"
        },
        "id": "L2y1T5b61JKp",
        "outputId": "46edca8b-b6a0-4342-b97e-587ad371bff7"
      },
      "source": [
        "import pandas as pd \n",
        "import doc2vec_hyperparam_script as dhs\n",
        "\n",
        "import nltk \n",
        "\n",
        "nltk.download('punkt')\n",
        "from nltk.tokenize import word_tokenize\n",
        "\n",
        "nltk.download('stopwords')\n",
        "stop_words = nltk.corpus.stopwords.words('english')\n",
        "\n",
        "from nltk.stem.snowball import SnowballStemmer\n",
        "englishStemmer = SnowballStemmer(\"english\")"
      ],
      "execution_count": null,
      "outputs": [
        {
          "output_type": "stream",
          "text": [
            "Drive already mounted at /content/drive; to attempt to forcibly remount, call drive.mount(\"/content/drive\", force_remount=True).\n",
            "[nltk_data] Downloading package punkt to /root/nltk_data...\n",
            "[nltk_data]   Package punkt is already up-to-date!\n",
            "[nltk_data] Downloading package punkt to /root/nltk_data...\n",
            "[nltk_data]   Package punkt is already up-to-date!\n",
            "[nltk_data] Downloading package stopwords to /root/nltk_data...\n",
            "[nltk_data]   Package stopwords is already up-to-date!\n"
          ],
          "name": "stdout"
        }
      ]
    },
    {
      "cell_type": "code",
      "metadata": {
        "id": "3o1C5-4z2VK1"
      },
      "source": [
        "import spacy\n",
        "\n",
        "load_model = spacy.load(\"en\", disable = [\"parser\", \"ner\"])"
      ],
      "execution_count": null,
      "outputs": []
    },
    {
      "cell_type": "code",
      "metadata": {
        "id": "o798CiCO4gj7"
      },
      "source": [
        "gbq_pshshft = pd.read_csv(\"/content/drive/MyDrive/THESIS_May15/cleaned_gbq_pshshft.csv\")\n",
        "comment = pd.read_csv(\"/content/drive/MyDrive/THESIS_May15/cleaned_comments_482threshold.csv\")"
      ],
      "execution_count": null,
      "outputs": []
    },
    {
      "cell_type": "code",
      "metadata": {
        "colab": {
          "base_uri": "https://localhost:8080/",
          "height": 194
        },
        "id": "aXNQ8UHV43Zg",
        "outputId": "134e855e-2e80-4a42-8421-eea1410fca3d"
      },
      "source": [
        "gbq_pshshft.head()"
      ],
      "execution_count": null,
      "outputs": [
        {
          "output_type": "execute_result",
          "data": {
            "text/html": [
              "<div>\n",
              "<style scoped>\n",
              "    .dataframe tbody tr th:only-of-type {\n",
              "        vertical-align: middle;\n",
              "    }\n",
              "\n",
              "    .dataframe tbody tr th {\n",
              "        vertical-align: top;\n",
              "    }\n",
              "\n",
              "    .dataframe thead th {\n",
              "        text-align: right;\n",
              "    }\n",
              "</style>\n",
              "<table border=\"1\" class=\"dataframe\">\n",
              "  <thead>\n",
              "    <tr style=\"text-align: right;\">\n",
              "      <th></th>\n",
              "      <th>Unnamed: 0</th>\n",
              "      <th>0</th>\n",
              "    </tr>\n",
              "  </thead>\n",
              "  <tbody>\n",
              "    <tr>\n",
              "      <th>0</th>\n",
              "      <td>0</td>\n",
              "      <td>i m watching the new season of the expanse and...</td>\n",
              "    </tr>\n",
              "    <tr>\n",
              "      <th>1</th>\n",
              "      <td>4</td>\n",
              "      <td>i ve been following this story and noticed tha...</td>\n",
              "    </tr>\n",
              "    <tr>\n",
              "      <th>2</th>\n",
              "      <td>6</td>\n",
              "      <td>i m convinced that it s a collective marketing...</td>\n",
              "    </tr>\n",
              "    <tr>\n",
              "      <th>3</th>\n",
              "      <td>7</td>\n",
              "      <td>disobedient highlights of</td>\n",
              "    </tr>\n",
              "    <tr>\n",
              "      <th>4</th>\n",
              "      <td>9</td>\n",
              "      <td>tell me what you know</td>\n",
              "    </tr>\n",
              "  </tbody>\n",
              "</table>\n",
              "</div>"
            ],
            "text/plain": [
              "   Unnamed: 0                                                  0\n",
              "0           0  i m watching the new season of the expanse and...\n",
              "1           4  i ve been following this story and noticed tha...\n",
              "2           6  i m convinced that it s a collective marketing...\n",
              "3           7                          disobedient highlights of\n",
              "4           9                              tell me what you know"
            ]
          },
          "metadata": {
            "tags": []
          },
          "execution_count": 6
        }
      ]
    },
    {
      "cell_type": "code",
      "metadata": {
        "colab": {
          "base_uri": "https://localhost:8080/",
          "height": 194
        },
        "id": "KhNmuJm145Hg",
        "outputId": "e24a91e7-1d60-4f07-8037-26ed39ec4fed"
      },
      "source": [
        "comment.head()"
      ],
      "execution_count": null,
      "outputs": [
        {
          "output_type": "execute_result",
          "data": {
            "text/html": [
              "<div>\n",
              "<style scoped>\n",
              "    .dataframe tbody tr th:only-of-type {\n",
              "        vertical-align: middle;\n",
              "    }\n",
              "\n",
              "    .dataframe tbody tr th {\n",
              "        vertical-align: top;\n",
              "    }\n",
              "\n",
              "    .dataframe thead th {\n",
              "        text-align: right;\n",
              "    }\n",
              "</style>\n",
              "<table border=\"1\" class=\"dataframe\">\n",
              "  <thead>\n",
              "    <tr style=\"text-align: right;\">\n",
              "      <th></th>\n",
              "      <th>Unnamed: 0</th>\n",
              "      <th>comments</th>\n",
              "    </tr>\n",
              "  </thead>\n",
              "  <tbody>\n",
              "    <tr>\n",
              "      <th>0</th>\n",
              "      <td>3</td>\n",
              "      <td>sincerely from an american this country is lea...</td>\n",
              "    </tr>\n",
              "    <tr>\n",
              "      <th>1</th>\n",
              "      <td>21</td>\n",
              "      <td>are you gas lighting you cannot victim blame v...</td>\n",
              "    </tr>\n",
              "    <tr>\n",
              "      <th>2</th>\n",
              "      <td>45</td>\n",
              "      <td>he paid million in one year doofus it s fuckin...</td>\n",
              "    </tr>\n",
              "    <tr>\n",
              "      <th>3</th>\n",
              "      <td>69</td>\n",
              "      <td>brittin said it s not our job to be a censor i...</td>\n",
              "    </tr>\n",
              "    <tr>\n",
              "      <th>4</th>\n",
              "      <td>87</td>\n",
              "      <td>hm i mostly pointed out the transmission of dr...</td>\n",
              "    </tr>\n",
              "  </tbody>\n",
              "</table>\n",
              "</div>"
            ],
            "text/plain": [
              "   Unnamed: 0                                           comments\n",
              "0           3  sincerely from an american this country is lea...\n",
              "1          21  are you gas lighting you cannot victim blame v...\n",
              "2          45  he paid million in one year doofus it s fuckin...\n",
              "3          69  brittin said it s not our job to be a censor i...\n",
              "4          87  hm i mostly pointed out the transmission of dr..."
            ]
          },
          "metadata": {
            "tags": []
          },
          "execution_count": 7
        }
      ]
    },
    {
      "cell_type": "code",
      "metadata": {
        "colab": {
          "base_uri": "https://localhost:8080/"
        },
        "id": "92NrFXdM5IrZ",
        "outputId": "6725147a-c0cc-41fe-a693-adf01e7263ff"
      },
      "source": [
        "gbq_pshshft.columns = [\"Unnamed: 0\", \"comments\"]\n",
        "gbq_pshshft_text = gbq_pshshft[\"comments\"]\n",
        "comment_text = comment[\"comments\"]\n",
        "\n",
        "all_text_combined = pd.concat([gbq_pshshft_text, comment_text], ignore_index = True)\n",
        "all_text_combined.shape"
      ],
      "execution_count": null,
      "outputs": [
        {
          "output_type": "execute_result",
          "data": {
            "text/plain": [
              "(1482826,)"
            ]
          },
          "metadata": {
            "tags": []
          },
          "execution_count": 8
        }
      ]
    },
    {
      "cell_type": "code",
      "metadata": {
        "id": "LaBUGevD2V-8"
      },
      "source": [
        "def stop_stem(given_text):\n",
        "\n",
        "  return ' '.join(englishStemmer.stem(term) for term in word_tokenize(given_text) if term not in stop_words)"
      ],
      "execution_count": null,
      "outputs": []
    },
    {
      "cell_type": "code",
      "metadata": {
        "id": "EwSf69S72-v1"
      },
      "source": [
        "all_text_lin = all_text_combined.apply(stop_stem)"
      ],
      "execution_count": null,
      "outputs": []
    },
    {
      "cell_type": "code",
      "metadata": {
        "colab": {
          "base_uri": "https://localhost:8080/"
        },
        "id": "koTRWYyEGF_3",
        "outputId": "5e5ef7d3-f581-4d36-b567-fd7c9a3f85d3"
      },
      "source": [
        "all_text_lin.head()"
      ],
      "execution_count": null,
      "outputs": [
        {
          "output_type": "execute_result",
          "data": {
            "text/plain": [
              "0    watch new season expans notic mar polic action...\n",
              "1    follow stori notic everi articl refer churchgo...\n",
              "2    convinc collect market strategi food industri ...\n",
              "3                                   disobedi highlight\n",
              "4                                            tell know\n",
              "Name: comments, dtype: object"
            ]
          },
          "metadata": {
            "tags": []
          },
          "execution_count": 13
        }
      ]
    },
    {
      "cell_type": "code",
      "metadata": {
        "id": "iJq3diXb_3MC"
      },
      "source": [
        "all_text_lin.to_csv(\"stop_stem_to_reddit.csv\")"
      ],
      "execution_count": null,
      "outputs": []
    },
    {
      "cell_type": "code",
      "metadata": {
        "colab": {
          "base_uri": "https://localhost:8080/"
        },
        "id": "-rIxTAbT5yKC",
        "outputId": "818678b1-2d16-4642-9575-f41fc1acf202"
      },
      "source": [
        "dhs.long_doc2vec_stuff(all_text_lin, 8, 0)"
      ],
      "execution_count": null,
      "outputs": [
        {
          "output_type": "stream",
          "text": [
            "/usr/local/lib/python3.7/dist-packages/gensim/models/doc2vec.py:566: UserWarning: The parameter `iter` is deprecated, will be removed in 4.0.0, use `epochs` instead.\n",
            "  warnings.warn(\"The parameter `iter` is deprecated, will be removed in 4.0.0, use `epochs` instead.\")\n",
            "/usr/local/lib/python3.7/dist-packages/gensim/models/doc2vec.py:570: UserWarning: The parameter `size` is deprecated, will be removed in 4.0.0, use `vector_size` instead.\n",
            "  warnings.warn(\"The parameter `size` is deprecated, will be removed in 4.0.0, use `vector_size` instead.\")\n"
          ],
          "name": "stderr"
        },
        {
          "output_type": "stream",
          "text": [
            "Doc2Vec(dbow,d8,n5,mc5,s0.001,t2)\n"
          ],
          "name": "stdout"
        }
      ]
    },
    {
      "cell_type": "code",
      "metadata": {
        "id": "SYycvPIN5-wm"
      },
      "source": [
        "dhs.long_doc2vec_stuff(all_text_lin, 24, 1)"
      ],
      "execution_count": null,
      "outputs": []
    },
    {
      "cell_type": "code",
      "metadata": {
        "id": "B8SpR85i6ABz"
      },
      "source": [
        "dhs.long_doc2vec_stuff(all_text_lin, 64, 2)"
      ],
      "execution_count": null,
      "outputs": []
    },
    {
      "cell_type": "code",
      "metadata": {
        "id": "REYhoK776Apy"
      },
      "source": [
        "dhs.long_doc2vec_stuff(all_text_lin, 256, 3)"
      ],
      "execution_count": null,
      "outputs": []
    }
  ]
}