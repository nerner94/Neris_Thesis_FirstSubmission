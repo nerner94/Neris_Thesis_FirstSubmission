{
  "nbformat": 4,
  "nbformat_minor": 0,
  "metadata": {
    "colab": {
      "name": "Youtube dataset prep_co-training scenario.ipynb",
      "provenance": [],
      "collapsed_sections": []
    },
    "kernelspec": {
      "name": "python3",
      "display_name": "Python 3"
    },
    "language_info": {
      "name": "python"
    }
  },
  "cells": [
    {
      "cell_type": "code",
      "metadata": {
        "colab": {
          "base_uri": "https://localhost:8080/"
        },
        "id": "cYvVanrnUX7X",
        "outputId": "be7556a8-09a9-4af7-8553-272ac7c0fa12"
      },
      "source": [
        "from google.colab import drive\n",
        "drive.mount(\"/content/drive\")"
      ],
      "execution_count": null,
      "outputs": [
        {
          "output_type": "stream",
          "text": [
            "Drive already mounted at /content/drive; to attempt to forcibly remount, call drive.mount(\"/content/drive\", force_remount=True).\n"
          ],
          "name": "stdout"
        }
      ]
    },
    {
      "cell_type": "code",
      "metadata": {
        "colab": {
          "base_uri": "https://localhost:8080/"
        },
        "id": "ZLLRiGyrXT9d",
        "outputId": "9fec5ff3-66e6-4b62-bb7a-76f9386a813a"
      },
      "source": [
        "import re\n",
        "import random\n",
        "import pandas as pd\n",
        "from sklearn.model_selection import train_test_split\n",
        "\n",
        "import nltk \n",
        "nltk.download('punkt')\n",
        "from nltk.tokenize import word_tokenize\n",
        "nltk.download('stopwords')\n",
        "stop_words = nltk.corpus.stopwords.words('english')\n",
        "from nltk.stem.snowball import SnowballStemmer\n",
        "englishStemmer = SnowballStemmer(\"english\")"
      ],
      "execution_count": null,
      "outputs": [
        {
          "output_type": "stream",
          "text": [
            "[nltk_data] Downloading package punkt to /root/nltk_data...\n",
            "[nltk_data]   Package punkt is already up-to-date!\n",
            "[nltk_data] Downloading package stopwords to /root/nltk_data...\n",
            "[nltk_data]   Package stopwords is already up-to-date!\n"
          ],
          "name": "stdout"
        }
      ]
    },
    {
      "cell_type": "code",
      "metadata": {
        "id": "31ADRusYXj0t"
      },
      "source": [
        "hyptun = pd.read_csv(\"/content/drive/MyDrive/THESIS_May15/hyptun.csv\")\n",
        "cotrn = pd.read_csv(\"/content/drive/MyDrive/THESIS_May15/cotrn.csv\")"
      ],
      "execution_count": null,
      "outputs": []
    },
    {
      "cell_type": "code",
      "metadata": {
        "colab": {
          "base_uri": "https://localhost:8080/",
          "height": 194
        },
        "id": "kacCLkogXtNR",
        "outputId": "37edd732-98df-4a98-efc0-ae2d7054ee2d"
      },
      "source": [
        "hyptun.head()"
      ],
      "execution_count": null,
      "outputs": [
        {
          "output_type": "execute_result",
          "data": {
            "text/html": [
              "<div>\n",
              "<style scoped>\n",
              "    .dataframe tbody tr th:only-of-type {\n",
              "        vertical-align: middle;\n",
              "    }\n",
              "\n",
              "    .dataframe tbody tr th {\n",
              "        vertical-align: top;\n",
              "    }\n",
              "\n",
              "    .dataframe thead th {\n",
              "        text-align: right;\n",
              "    }\n",
              "</style>\n",
              "<table border=\"1\" class=\"dataframe\">\n",
              "  <thead>\n",
              "    <tr style=\"text-align: right;\">\n",
              "      <th></th>\n",
              "      <th>Unnamed: 0</th>\n",
              "      <th>transcripts</th>\n",
              "      <th>labels</th>\n",
              "    </tr>\n",
              "  </thead>\n",
              "  <tbody>\n",
              "    <tr>\n",
              "      <th>0</th>\n",
              "      <td>272</td>\n",
              "      <td>and to be honest with you I felt like  that el...</td>\n",
              "      <td>1</td>\n",
              "    </tr>\n",
              "    <tr>\n",
              "      <th>1</th>\n",
              "      <td>510</td>\n",
              "      <td>Flat Earth clues part 3 the mapmakers this is ...</td>\n",
              "      <td>1</td>\n",
              "    </tr>\n",
              "    <tr>\n",
              "      <th>2</th>\n",
              "      <td>162</td>\n",
              "      <td>all right so 911 fear-mongering if they can ma...</td>\n",
              "      <td>1</td>\n",
              "    </tr>\n",
              "    <tr>\n",
              "      <th>3</th>\n",
              "      <td>446</td>\n",
              "      <td>according to a report in WorldNetDaily some of...</td>\n",
              "      <td>1</td>\n",
              "    </tr>\n",
              "    <tr>\n",
              "      <th>4</th>\n",
              "      <td>176</td>\n",
              "      <td>You So everybody When I never met in person I ...</td>\n",
              "      <td>1</td>\n",
              "    </tr>\n",
              "  </tbody>\n",
              "</table>\n",
              "</div>"
            ],
            "text/plain": [
              "   Unnamed: 0                                        transcripts  labels\n",
              "0         272  and to be honest with you I felt like  that el...       1\n",
              "1         510  Flat Earth clues part 3 the mapmakers this is ...       1\n",
              "2         162  all right so 911 fear-mongering if they can ma...       1\n",
              "3         446  according to a report in WorldNetDaily some of...       1\n",
              "4         176  You So everybody When I never met in person I ...       1"
            ]
          },
          "metadata": {
            "tags": []
          },
          "execution_count": 4
        }
      ]
    },
    {
      "cell_type": "code",
      "metadata": {
        "colab": {
          "base_uri": "https://localhost:8080/",
          "height": 194
        },
        "id": "1njUF0qMXxfU",
        "outputId": "a56a0a12-4150-4a0f-b290-9cb66cb616f5"
      },
      "source": [
        "cotrn.head()"
      ],
      "execution_count": null,
      "outputs": [
        {
          "output_type": "execute_result",
          "data": {
            "text/html": [
              "<div>\n",
              "<style scoped>\n",
              "    .dataframe tbody tr th:only-of-type {\n",
              "        vertical-align: middle;\n",
              "    }\n",
              "\n",
              "    .dataframe tbody tr th {\n",
              "        vertical-align: top;\n",
              "    }\n",
              "\n",
              "    .dataframe thead th {\n",
              "        text-align: right;\n",
              "    }\n",
              "</style>\n",
              "<table border=\"1\" class=\"dataframe\">\n",
              "  <thead>\n",
              "    <tr style=\"text-align: right;\">\n",
              "      <th></th>\n",
              "      <th>Unnamed: 0</th>\n",
              "      <th>transcripts</th>\n",
              "      <th>labels</th>\n",
              "    </tr>\n",
              "  </thead>\n",
              "  <tbody>\n",
              "    <tr>\n",
              "      <th>0</th>\n",
              "      <td>1</td>\n",
              "      <td>get my sex  hey guys we are going up to the ol...</td>\n",
              "      <td>1</td>\n",
              "    </tr>\n",
              "    <tr>\n",
              "      <th>1</th>\n",
              "      <td>2</td>\n",
              "      <td>in March of 2016 Conor McGregor was set to mak...</td>\n",
              "      <td>0</td>\n",
              "    </tr>\n",
              "    <tr>\n",
              "      <th>2</th>\n",
              "      <td>3</td>\n",
              "      <td>[ ♪♪ ] [ ♪♪ ] &gt;&gt; Bob: It's like something\\nfro...</td>\n",
              "      <td>1</td>\n",
              "    </tr>\n",
              "    <tr>\n",
              "      <th>3</th>\n",
              "      <td>5</td>\n",
              "      <td>hi I'm coach chicken lat a business-focused ma...</td>\n",
              "      <td>0</td>\n",
              "    </tr>\n",
              "    <tr>\n",
              "      <th>4</th>\n",
              "      <td>6</td>\n",
              "      <td>okay so I just started the rinsing process and...</td>\n",
              "      <td>0</td>\n",
              "    </tr>\n",
              "  </tbody>\n",
              "</table>\n",
              "</div>"
            ],
            "text/plain": [
              "   Unnamed: 0                                        transcripts  labels\n",
              "0           1  get my sex  hey guys we are going up to the ol...       1\n",
              "1           2  in March of 2016 Conor McGregor was set to mak...       0\n",
              "2           3  [ ♪♪ ] [ ♪♪ ] >> Bob: It's like something\\nfro...       1\n",
              "3           5  hi I'm coach chicken lat a business-focused ma...       0\n",
              "4           6  okay so I just started the rinsing process and...       0"
            ]
          },
          "metadata": {
            "tags": []
          },
          "execution_count": 5
        }
      ]
    },
    {
      "cell_type": "code",
      "metadata": {
        "colab": {
          "base_uri": "https://localhost:8080/"
        },
        "id": "bKkE7dDMYWnz",
        "outputId": "8b226e1f-59f4-4959-b788-b884616d1d9d"
      },
      "source": [
        "all_youtube = pd.concat([hyptun, cotrn], axis = 0, ignore_index = True)\n",
        "all_youtube.shape"
      ],
      "execution_count": null,
      "outputs": [
        {
          "output_type": "execute_result",
          "data": {
            "text/plain": [
              "(578, 3)"
            ]
          },
          "metadata": {
            "tags": []
          },
          "execution_count": 6
        }
      ]
    },
    {
      "cell_type": "code",
      "metadata": {
        "id": "KgB7b0ZPYjqC"
      },
      "source": [
        "all_youtube.drop(\"Unnamed: 0\", axis = 1, inplace = True)"
      ],
      "execution_count": null,
      "outputs": []
    },
    {
      "cell_type": "code",
      "metadata": {
        "id": "BgWedrkcXzVG"
      },
      "source": [
        "def clean_text (given_text):\n",
        "\n",
        "  message = re.sub(r'(http[s]?\\S+)', ' ', given_text) #Replace URLs with space because it might be too freq in this class   \n",
        "  message = re.sub(r'(w{2}\\.\\S+)', ' ', message) #Replace URLs with space because it might be too freq in this class    \n",
        "  message = re.sub(r'&[a-zA-Z]*', ' ', message) #also another code to remove the stuff with ampersand    \n",
        "  message = re.sub(r'[^\\w\\d\\s]', ' ', message) #punctuation removed (it removes * too!)\n",
        "  message = re.sub(r'\\d+(\\.\\d+)?', ' ', message)  #Replace numbers with space   \n",
        "  message = re.sub(r'\\s+', ' ', message) #too muchs space removed\n",
        "  message = re.sub(r'^\\s+|\\s+?$', '', message.lower()) #Get rid of spaces at the beginning and at the end\n",
        "\n",
        "  return message"
      ],
      "execution_count": null,
      "outputs": []
    },
    {
      "cell_type": "code",
      "metadata": {
        "id": "Ga1jJDKcYsB0"
      },
      "source": [
        "all_youtube[\"transcripts\"] = all_youtube[\"transcripts\"].apply(clean_text)"
      ],
      "execution_count": null,
      "outputs": []
    },
    {
      "cell_type": "code",
      "metadata": {
        "colab": {
          "base_uri": "https://localhost:8080/",
          "height": 194
        },
        "id": "KN_4dE86Y61n",
        "outputId": "29b06756-0511-4a92-d80c-11e1e3dc298b"
      },
      "source": [
        "all_youtube.head()"
      ],
      "execution_count": null,
      "outputs": [
        {
          "output_type": "execute_result",
          "data": {
            "text/html": [
              "<div>\n",
              "<style scoped>\n",
              "    .dataframe tbody tr th:only-of-type {\n",
              "        vertical-align: middle;\n",
              "    }\n",
              "\n",
              "    .dataframe tbody tr th {\n",
              "        vertical-align: top;\n",
              "    }\n",
              "\n",
              "    .dataframe thead th {\n",
              "        text-align: right;\n",
              "    }\n",
              "</style>\n",
              "<table border=\"1\" class=\"dataframe\">\n",
              "  <thead>\n",
              "    <tr style=\"text-align: right;\">\n",
              "      <th></th>\n",
              "      <th>transcripts</th>\n",
              "      <th>labels</th>\n",
              "    </tr>\n",
              "  </thead>\n",
              "  <tbody>\n",
              "    <tr>\n",
              "      <th>0</th>\n",
              "      <td>and to be honest with you i felt like that ele...</td>\n",
              "      <td>1</td>\n",
              "    </tr>\n",
              "    <tr>\n",
              "      <th>1</th>\n",
              "      <td>flat earth clues part the mapmakers this is pa...</td>\n",
              "      <td>1</td>\n",
              "    </tr>\n",
              "    <tr>\n",
              "      <th>2</th>\n",
              "      <td>all right so fear mongering if they can make e...</td>\n",
              "      <td>1</td>\n",
              "    </tr>\n",
              "    <tr>\n",
              "      <th>3</th>\n",
              "      <td>according to a report in worldnetdaily some of...</td>\n",
              "      <td>1</td>\n",
              "    </tr>\n",
              "    <tr>\n",
              "      <th>4</th>\n",
              "      <td>you so everybody when i never met in person i ...</td>\n",
              "      <td>1</td>\n",
              "    </tr>\n",
              "  </tbody>\n",
              "</table>\n",
              "</div>"
            ],
            "text/plain": [
              "                                         transcripts  labels\n",
              "0  and to be honest with you i felt like that ele...       1\n",
              "1  flat earth clues part the mapmakers this is pa...       1\n",
              "2  all right so fear mongering if they can make e...       1\n",
              "3  according to a report in worldnetdaily some of...       1\n",
              "4  you so everybody when i never met in person i ...       1"
            ]
          },
          "metadata": {
            "tags": []
          },
          "execution_count": 10
        }
      ]
    },
    {
      "cell_type": "code",
      "metadata": {
        "id": "zxntK0CzY_G-"
      },
      "source": [
        "def stop_stem(given_text):\n",
        "\n",
        "  return ' '.join(englishStemmer.stem(term) for term in given_text.split() if term not in set(stop_words))"
      ],
      "execution_count": null,
      "outputs": []
    },
    {
      "cell_type": "code",
      "metadata": {
        "id": "DgoBFodxZaGW"
      },
      "source": [
        "all_youtube[\"transcripts\"] = all_youtube[\"transcripts\"].apply(stop_stem) "
      ],
      "execution_count": null,
      "outputs": []
    },
    {
      "cell_type": "markdown",
      "metadata": {
        "id": "N9zGnPwyUgCX"
      },
      "source": [
        "Initially splitting the dataset as train test. Then 4/9th of the train will be masked away in terms of its labels. \n",
        "Remaining will be labelled training set. Both in benchmark and co-training setups, they will be stratified into 5 folds with respect to their label distributions. "
      ]
    },
    {
      "cell_type": "code",
      "metadata": {
        "id": "BcojTQvyZvPK"
      },
      "source": [
        "train_val_trns, test_trns, train_val_lbl, test_lbl = train_test_split(all_youtube[\"transcripts\"], all_youtube[\"labels\"], test_size = 0.2, random_state = 94)\n",
        "labelled_val_trns, unlabelled_trns, labelled_val_lbl, _ = train_test_split(all_youtube[\"transcripts\"], all_youtube[\"labels\"], test_size = 4/9, random_state = 94)"
      ],
      "execution_count": null,
      "outputs": []
    },
    {
      "cell_type": "code",
      "metadata": {
        "colab": {
          "base_uri": "https://localhost:8080/"
        },
        "id": "lBZDRxxRbIw9",
        "outputId": "88be40ae-c454-4f55-e229-9cb274f43367"
      },
      "source": [
        "labelled_val_lbl.value_counts()"
      ],
      "execution_count": null,
      "outputs": [
        {
          "output_type": "execute_result",
          "data": {
            "text/plain": [
              "0    183\n",
              "1    138\n",
              "Name: labels, dtype: int64"
            ]
          },
          "metadata": {
            "tags": []
          },
          "execution_count": 14
        }
      ]
    },
    {
      "cell_type": "markdown",
      "metadata": {
        "id": "tYKmrL83cmwY"
      },
      "source": [
        "Here, the data we see has a ratio of 1.32. So, we can still go with the 3:2 ratio for negative and positive prediction ratios.  "
      ]
    },
    {
      "cell_type": "code",
      "metadata": {
        "id": "2QJfJbF-bGvy"
      },
      "source": [
        "rem_trns, val_fold1_trns, rem_lbl, val_fold1_lbl =  train_test_split(labelled_val_trns, labelled_val_lbl, test_size = 0.2, stratify = labelled_val_lbl, random_state = 94)\n",
        "rem_trns_2, val_fold2_trns, rem_lbl_2, val_fold2_lbl =  train_test_split(rem_trns, rem_lbl, test_size = 0.25, stratify = rem_lbl, random_state = 94)\n",
        "rem_trns_3, val_fold3_trns, rem_lbl_3, val_fold3_lbl =  train_test_split(rem_trns_2, rem_lbl_2, test_size = 0.33, stratify = rem_lbl_2, random_state = 94)\n",
        "val_fold5_trns, val_fold4_trns, val_fold5_lbl, val_fold4_lbl =  train_test_split(rem_trns_3, rem_lbl_3, test_size = 0.5, stratify = rem_lbl_3, random_state = 94)"
      ],
      "execution_count": null,
      "outputs": []
    },
    {
      "cell_type": "code",
      "metadata": {
        "colab": {
          "base_uri": "https://localhost:8080/"
        },
        "id": "--tx6Y7legkp",
        "outputId": "2061669b-3f35-4b3c-a31d-7dd69787fcd4"
      },
      "source": [
        "print(val_fold1_trns.shape)\n",
        "print(val_fold2_trns.shape)\n",
        "print(val_fold3_trns.shape)\n",
        "print(val_fold4_trns.shape)\n",
        "print(val_fold5_trns.shape)"
      ],
      "execution_count": null,
      "outputs": [
        {
          "output_type": "stream",
          "text": [
            "(65,)\n",
            "(64,)\n",
            "(64,)\n",
            "(64,)\n",
            "(64,)\n"
          ],
          "name": "stdout"
        }
      ]
    },
    {
      "cell_type": "code",
      "metadata": {
        "id": "H7-mUL4prUXL"
      },
      "source": [
        "val_folds_trns_in_list = [val_fold1_trns, val_fold2_trns, val_fold3_trns, val_fold4_trns, val_fold5_trns]\n",
        "val_folds_lbl_in_list = [val_fold1_lbl, val_fold2_lbl, val_fold3_lbl, val_fold4_lbl, val_fold5_lbl]"
      ],
      "execution_count": null,
      "outputs": []
    },
    {
      "cell_type": "markdown",
      "metadata": {
        "id": "hk10PcbYqkpc"
      },
      "source": [
        "From now on, we are trying the co-training script to see whether it is working well. "
      ]
    },
    {
      "cell_type": "code",
      "metadata": {
        "id": "dE-psWOJrKKY"
      },
      "source": [
        "import os\n",
        "os.chdir(\"/content/drive/MyDrive/THESIS_May15\")"
      ],
      "execution_count": null,
      "outputs": []
    },
    {
      "cell_type": "code",
      "metadata": {
        "id": "kVRkloHfsF62"
      },
      "source": [
        "import co_training_script_smaller_2_outcomes as ctsb\n",
        "from gensim.models.doc2vec import Doc2Vec"
      ],
      "execution_count": null,
      "outputs": []
    },
    {
      "cell_type": "markdown",
      "metadata": {
        "id": "sdcDxF4IF_Eu"
      },
      "source": [
        "Running with the actual hyperparams - Hyperparameter tuning"
      ]
    },
    {
      "cell_type": "code",
      "metadata": {
        "id": "F8lSzRnuF-bm"
      },
      "source": [
        "model_8 = Doc2Vec.load(\"d2v_model_embdsize_8.model\")\n",
        "model_24 = Doc2Vec.load(\"d2v_model_embdsize_24.model\")\n",
        "model_64 = Doc2Vec.load(\"d2v_model_embdsize_64.model\")\n",
        "model_256 = Doc2Vec.load(\"d2v_model_embdsize_256.model\")\n",
        "\n",
        "models = [model_8, model_24, model_64, model_256]\n",
        "feats_tfidf = [700, 1000, 2000, 4000]\n",
        "p_cands = [2, 4]\n",
        "n_cands = [3, 6]\n",
        "CC_cands = [0.1, 1, 10]"
      ],
      "execution_count": null,
      "outputs": []
    },
    {
      "cell_type": "code",
      "metadata": {
        "id": "6vKLL2F8EtkT"
      },
      "source": [
        "best_tfidf = -1\n",
        "best_doc2vec = -1\n",
        "best_tfidf_index = [-1] * 4\n",
        "best_doc2vec_index = [-1] * 4\n",
        "\n",
        "for im, model in enumerate(models): \n",
        "  for iff, feat_tfidf in enumerate(feats_tfidf): \n",
        "    for ipn, (p_val, n_val) in enumerate(zip(p_cands, n_cands)):\n",
        "      for ic, cc_val in enumerate(CC_cands): \n",
        "        \n",
        "        tfidf_f1, doc2vec_f1 = ctsb.cotraining_val(model, val_folds_trns_in_list, val_folds_lbl_in_list, unlabelled_trns, feat_tfidf, p_val, n_val, cc_val, 0.43) \n",
        "\n",
        "        if tfidf_f1 > best_tfidf: \n",
        "          best_tfidf = tfidf_f1\n",
        "          best_tfidf_index = [im, iff, ipn, ic]\n",
        "\n",
        "        if doc2vec_f1 > best_doc2vec: \n",
        "          best_doc2vec = doc2vec_f1\n",
        "          best_doc2vec_index = [im, iff, ipn, ic]      "
      ],
      "execution_count": null,
      "outputs": []
    },
    {
      "cell_type": "code",
      "metadata": {
        "id": "j8Ta3krXE3kZ"
      },
      "source": [
        "print(best_tfidf)"
      ],
      "execution_count": null,
      "outputs": []
    },
    {
      "cell_type": "code",
      "metadata": {
        "id": "3O88y_qZE6ek"
      },
      "source": [
        "print(best_tfidf_index)"
      ],
      "execution_count": null,
      "outputs": []
    },
    {
      "cell_type": "code",
      "metadata": {
        "id": "N7luD26eE8m0"
      },
      "source": [
        "print(best_doc2vec)"
      ],
      "execution_count": null,
      "outputs": []
    },
    {
      "cell_type": "code",
      "metadata": {
        "id": "zW6LKjbKE8dV"
      },
      "source": [
        "print(best_doc2vec_index)"
      ],
      "execution_count": null,
      "outputs": []
    },
    {
      "cell_type": "markdown",
      "metadata": {
        "id": "oz3bm6hbN8ZF"
      },
      "source": [
        "Testing the performance with best hyperparameters for tfidf and doc2vec classifiers"
      ]
    },
    {
      "cell_type": "code",
      "metadata": {
        "id": "9aQ2wpoBYaOe",
        "colab": {
          "base_uri": "https://localhost:8080/"
        },
        "outputId": "67a117c7-2d2c-405e-8173-1e52acd3fb26"
      },
      "source": [
        "#testing tfidf\n",
        "\n",
        "ctsb.cotraining_test(model_256, labelled_val_trns, labelled_val_lbl, test_trns, test_lbl, unlabelled_trns, 700, 4, 6, 1, 1)"
      ],
      "execution_count": null,
      "outputs": [
        {
          "output_type": "execute_result",
          "data": {
            "text/plain": [
              "0.8048780487804877"
            ]
          },
          "metadata": {
            "tags": []
          },
          "execution_count": 21
        }
      ]
    },
    {
      "cell_type": "code",
      "metadata": {
        "id": "KgjoII4yOl8k",
        "colab": {
          "base_uri": "https://localhost:8080/"
        },
        "outputId": "575e9cd1-bee2-4fe3-9601-c0c33c9c9e1f"
      },
      "source": [
        "#testing doc2vec\n",
        "\n",
        "ctsb.cotraining_test(model_256, labelled_val_trns, labelled_val_lbl, test_trns, test_lbl, unlabelled_trns, 2000, 4, 6, 1, 0)"
      ],
      "execution_count": null,
      "outputs": [
        {
          "output_type": "execute_result",
          "data": {
            "text/plain": [
              "0.5617977528089888"
            ]
          },
          "metadata": {
            "tags": []
          },
          "execution_count": 22
        }
      ]
    },
    {
      "cell_type": "code",
      "metadata": {
        "id": "HE9uoz7IX0J7"
      },
      "source": [
        ""
      ],
      "execution_count": null,
      "outputs": []
    }
  ]
}