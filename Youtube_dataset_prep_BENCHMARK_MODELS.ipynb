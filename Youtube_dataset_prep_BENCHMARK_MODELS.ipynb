{
  "nbformat": 4,
  "nbformat_minor": 0,
  "metadata": {
    "colab": {
      "name": "Youtube dataset prep_BENCHMARK MODELS.ipynb",
      "provenance": [],
      "collapsed_sections": []
    },
    "kernelspec": {
      "name": "python3",
      "display_name": "Python 3"
    },
    "language_info": {
      "name": "python"
    }
  },
  "cells": [
    {
      "cell_type": "code",
      "metadata": {
        "colab": {
          "base_uri": "https://localhost:8080/"
        },
        "id": "cYvVanrnUX7X",
        "outputId": "5d4c1a43-2bfc-45dc-9d1e-84d58d211155"
      },
      "source": [
        "from google.colab import drive\n",
        "drive.mount(\"/content/drive\")"
      ],
      "execution_count": null,
      "outputs": [
        {
          "output_type": "stream",
          "text": [
            "Mounted at /content/drive\n"
          ],
          "name": "stdout"
        }
      ]
    },
    {
      "cell_type": "code",
      "metadata": {
        "colab": {
          "base_uri": "https://localhost:8080/"
        },
        "id": "ZLLRiGyrXT9d",
        "outputId": "37a8b03c-83a0-4fbc-ff3f-f5d795a09239"
      },
      "source": [
        "import re\n",
        "import random\n",
        "import pandas as pd\n",
        "from sklearn.model_selection import train_test_split\n",
        "\n",
        "import nltk \n",
        "nltk.download('punkt')\n",
        "from nltk.tokenize import word_tokenize\n",
        "nltk.download('stopwords')\n",
        "stop_words = nltk.corpus.stopwords.words('english')\n",
        "from nltk.stem.snowball import SnowballStemmer\n",
        "englishStemmer = SnowballStemmer(\"english\")"
      ],
      "execution_count": null,
      "outputs": [
        {
          "output_type": "stream",
          "text": [
            "[nltk_data] Downloading package punkt to /root/nltk_data...\n",
            "[nltk_data]   Unzipping tokenizers/punkt.zip.\n",
            "[nltk_data] Downloading package stopwords to /root/nltk_data...\n",
            "[nltk_data]   Unzipping corpora/stopwords.zip.\n"
          ],
          "name": "stdout"
        }
      ]
    },
    {
      "cell_type": "code",
      "metadata": {
        "id": "31ADRusYXj0t"
      },
      "source": [
        "hyptun = pd.read_csv(\"/content/drive/MyDrive/THESIS_May15/hyptun.csv\")\n",
        "cotrn = pd.read_csv(\"/content/drive/MyDrive/THESIS_May15/cotrn.csv\")"
      ],
      "execution_count": null,
      "outputs": []
    },
    {
      "cell_type": "code",
      "metadata": {
        "colab": {
          "base_uri": "https://localhost:8080/",
          "height": 194
        },
        "id": "kacCLkogXtNR",
        "outputId": "a3271aa6-a797-481f-c4ec-0d4913633f38"
      },
      "source": [
        "hyptun.head()"
      ],
      "execution_count": null,
      "outputs": [
        {
          "output_type": "execute_result",
          "data": {
            "text/html": [
              "<div>\n",
              "<style scoped>\n",
              "    .dataframe tbody tr th:only-of-type {\n",
              "        vertical-align: middle;\n",
              "    }\n",
              "\n",
              "    .dataframe tbody tr th {\n",
              "        vertical-align: top;\n",
              "    }\n",
              "\n",
              "    .dataframe thead th {\n",
              "        text-align: right;\n",
              "    }\n",
              "</style>\n",
              "<table border=\"1\" class=\"dataframe\">\n",
              "  <thead>\n",
              "    <tr style=\"text-align: right;\">\n",
              "      <th></th>\n",
              "      <th>Unnamed: 0</th>\n",
              "      <th>transcripts</th>\n",
              "      <th>labels</th>\n",
              "    </tr>\n",
              "  </thead>\n",
              "  <tbody>\n",
              "    <tr>\n",
              "      <th>0</th>\n",
              "      <td>272</td>\n",
              "      <td>and to be honest with you I felt like  that el...</td>\n",
              "      <td>1</td>\n",
              "    </tr>\n",
              "    <tr>\n",
              "      <th>1</th>\n",
              "      <td>510</td>\n",
              "      <td>Flat Earth clues part 3 the mapmakers this is ...</td>\n",
              "      <td>1</td>\n",
              "    </tr>\n",
              "    <tr>\n",
              "      <th>2</th>\n",
              "      <td>162</td>\n",
              "      <td>all right so 911 fear-mongering if they can ma...</td>\n",
              "      <td>1</td>\n",
              "    </tr>\n",
              "    <tr>\n",
              "      <th>3</th>\n",
              "      <td>446</td>\n",
              "      <td>according to a report in WorldNetDaily some of...</td>\n",
              "      <td>1</td>\n",
              "    </tr>\n",
              "    <tr>\n",
              "      <th>4</th>\n",
              "      <td>176</td>\n",
              "      <td>You So everybody When I never met in person I ...</td>\n",
              "      <td>1</td>\n",
              "    </tr>\n",
              "  </tbody>\n",
              "</table>\n",
              "</div>"
            ],
            "text/plain": [
              "   Unnamed: 0                                        transcripts  labels\n",
              "0         272  and to be honest with you I felt like  that el...       1\n",
              "1         510  Flat Earth clues part 3 the mapmakers this is ...       1\n",
              "2         162  all right so 911 fear-mongering if they can ma...       1\n",
              "3         446  according to a report in WorldNetDaily some of...       1\n",
              "4         176  You So everybody When I never met in person I ...       1"
            ]
          },
          "metadata": {
            "tags": []
          },
          "execution_count": 4
        }
      ]
    },
    {
      "cell_type": "code",
      "metadata": {
        "colab": {
          "base_uri": "https://localhost:8080/",
          "height": 194
        },
        "id": "1njUF0qMXxfU",
        "outputId": "cd75b729-b940-4e43-fce1-ad9f9d044624"
      },
      "source": [
        "cotrn.head()"
      ],
      "execution_count": null,
      "outputs": [
        {
          "output_type": "execute_result",
          "data": {
            "text/html": [
              "<div>\n",
              "<style scoped>\n",
              "    .dataframe tbody tr th:only-of-type {\n",
              "        vertical-align: middle;\n",
              "    }\n",
              "\n",
              "    .dataframe tbody tr th {\n",
              "        vertical-align: top;\n",
              "    }\n",
              "\n",
              "    .dataframe thead th {\n",
              "        text-align: right;\n",
              "    }\n",
              "</style>\n",
              "<table border=\"1\" class=\"dataframe\">\n",
              "  <thead>\n",
              "    <tr style=\"text-align: right;\">\n",
              "      <th></th>\n",
              "      <th>Unnamed: 0</th>\n",
              "      <th>transcripts</th>\n",
              "      <th>labels</th>\n",
              "    </tr>\n",
              "  </thead>\n",
              "  <tbody>\n",
              "    <tr>\n",
              "      <th>0</th>\n",
              "      <td>1</td>\n",
              "      <td>get my sex  hey guys we are going up to the ol...</td>\n",
              "      <td>1</td>\n",
              "    </tr>\n",
              "    <tr>\n",
              "      <th>1</th>\n",
              "      <td>2</td>\n",
              "      <td>in March of 2016 Conor McGregor was set to mak...</td>\n",
              "      <td>0</td>\n",
              "    </tr>\n",
              "    <tr>\n",
              "      <th>2</th>\n",
              "      <td>3</td>\n",
              "      <td>[ ♪♪ ] [ ♪♪ ] &gt;&gt; Bob: It's like something\\nfro...</td>\n",
              "      <td>1</td>\n",
              "    </tr>\n",
              "    <tr>\n",
              "      <th>3</th>\n",
              "      <td>5</td>\n",
              "      <td>hi I'm coach chicken lat a business-focused ma...</td>\n",
              "      <td>0</td>\n",
              "    </tr>\n",
              "    <tr>\n",
              "      <th>4</th>\n",
              "      <td>6</td>\n",
              "      <td>okay so I just started the rinsing process and...</td>\n",
              "      <td>0</td>\n",
              "    </tr>\n",
              "  </tbody>\n",
              "</table>\n",
              "</div>"
            ],
            "text/plain": [
              "   Unnamed: 0                                        transcripts  labels\n",
              "0           1  get my sex  hey guys we are going up to the ol...       1\n",
              "1           2  in March of 2016 Conor McGregor was set to mak...       0\n",
              "2           3  [ ♪♪ ] [ ♪♪ ] >> Bob: It's like something\\nfro...       1\n",
              "3           5  hi I'm coach chicken lat a business-focused ma...       0\n",
              "4           6  okay so I just started the rinsing process and...       0"
            ]
          },
          "metadata": {
            "tags": []
          },
          "execution_count": 5
        }
      ]
    },
    {
      "cell_type": "code",
      "metadata": {
        "colab": {
          "base_uri": "https://localhost:8080/"
        },
        "id": "bKkE7dDMYWnz",
        "outputId": "7e010471-6670-4fc2-cb0a-773a69712fab"
      },
      "source": [
        "all_youtube = pd.concat([hyptun, cotrn], axis = 0, ignore_index = True)\n",
        "all_youtube.shape"
      ],
      "execution_count": null,
      "outputs": [
        {
          "output_type": "execute_result",
          "data": {
            "text/plain": [
              "(578, 3)"
            ]
          },
          "metadata": {
            "tags": []
          },
          "execution_count": 6
        }
      ]
    },
    {
      "cell_type": "code",
      "metadata": {
        "id": "KgB7b0ZPYjqC"
      },
      "source": [
        "all_youtube.drop(\"Unnamed: 0\", axis = 1, inplace = True)"
      ],
      "execution_count": null,
      "outputs": []
    },
    {
      "cell_type": "code",
      "metadata": {
        "id": "BgWedrkcXzVG"
      },
      "source": [
        "def clean_text (given_text):\n",
        "\n",
        "  message = re.sub(r'(http[s]?\\S+)', ' ', given_text) #Replace URLs with space because it might be too freq in this class   \n",
        "  message = re.sub(r'(w{2}\\.\\S+)', ' ', message) #Replace URLs with space because it might be too freq in this class    \n",
        "  message = re.sub(r'&[a-zA-Z]*', ' ', message) #also another code to remove the stuff with ampersand    \n",
        "  message = re.sub(r'[^\\w\\d\\s]', ' ', message) #punctuation removed (it removes * too!)\n",
        "  message = re.sub(r'\\d+(\\.\\d+)?', ' ', message)  #Replace numbers with space   \n",
        "  message = re.sub(r'\\s+', ' ', message) #too muchs space removed\n",
        "  message = re.sub(r'^\\s+|\\s+?$', '', message.lower()) #Get rid of spaces at the beginning and at the end\n",
        "\n",
        "  return message"
      ],
      "execution_count": null,
      "outputs": []
    },
    {
      "cell_type": "code",
      "metadata": {
        "id": "Ga1jJDKcYsB0"
      },
      "source": [
        "all_youtube[\"transcripts\"] = all_youtube[\"transcripts\"].apply(clean_text)"
      ],
      "execution_count": null,
      "outputs": []
    },
    {
      "cell_type": "code",
      "metadata": {
        "colab": {
          "base_uri": "https://localhost:8080/",
          "height": 194
        },
        "id": "KN_4dE86Y61n",
        "outputId": "7544d6b6-a90b-4717-8dd3-5249373cbbcf"
      },
      "source": [
        "all_youtube.head()"
      ],
      "execution_count": null,
      "outputs": [
        {
          "output_type": "execute_result",
          "data": {
            "text/html": [
              "<div>\n",
              "<style scoped>\n",
              "    .dataframe tbody tr th:only-of-type {\n",
              "        vertical-align: middle;\n",
              "    }\n",
              "\n",
              "    .dataframe tbody tr th {\n",
              "        vertical-align: top;\n",
              "    }\n",
              "\n",
              "    .dataframe thead th {\n",
              "        text-align: right;\n",
              "    }\n",
              "</style>\n",
              "<table border=\"1\" class=\"dataframe\">\n",
              "  <thead>\n",
              "    <tr style=\"text-align: right;\">\n",
              "      <th></th>\n",
              "      <th>transcripts</th>\n",
              "      <th>labels</th>\n",
              "    </tr>\n",
              "  </thead>\n",
              "  <tbody>\n",
              "    <tr>\n",
              "      <th>0</th>\n",
              "      <td>and to be honest with you i felt like that ele...</td>\n",
              "      <td>1</td>\n",
              "    </tr>\n",
              "    <tr>\n",
              "      <th>1</th>\n",
              "      <td>flat earth clues part the mapmakers this is pa...</td>\n",
              "      <td>1</td>\n",
              "    </tr>\n",
              "    <tr>\n",
              "      <th>2</th>\n",
              "      <td>all right so fear mongering if they can make e...</td>\n",
              "      <td>1</td>\n",
              "    </tr>\n",
              "    <tr>\n",
              "      <th>3</th>\n",
              "      <td>according to a report in worldnetdaily some of...</td>\n",
              "      <td>1</td>\n",
              "    </tr>\n",
              "    <tr>\n",
              "      <th>4</th>\n",
              "      <td>you so everybody when i never met in person i ...</td>\n",
              "      <td>1</td>\n",
              "    </tr>\n",
              "  </tbody>\n",
              "</table>\n",
              "</div>"
            ],
            "text/plain": [
              "                                         transcripts  labels\n",
              "0  and to be honest with you i felt like that ele...       1\n",
              "1  flat earth clues part the mapmakers this is pa...       1\n",
              "2  all right so fear mongering if they can make e...       1\n",
              "3  according to a report in worldnetdaily some of...       1\n",
              "4  you so everybody when i never met in person i ...       1"
            ]
          },
          "metadata": {
            "tags": []
          },
          "execution_count": 10
        }
      ]
    },
    {
      "cell_type": "code",
      "metadata": {
        "id": "zxntK0CzY_G-"
      },
      "source": [
        "def stop_stem(given_text):\n",
        "\n",
        "  return ' '.join(englishStemmer.stem(term) for term in given_text.split() if term not in set(stop_words))"
      ],
      "execution_count": null,
      "outputs": []
    },
    {
      "cell_type": "code",
      "metadata": {
        "id": "DgoBFodxZaGW"
      },
      "source": [
        "all_youtube[\"transcripts\"] = all_youtube[\"transcripts\"].apply(stop_stem) "
      ],
      "execution_count": null,
      "outputs": []
    },
    {
      "cell_type": "markdown",
      "metadata": {
        "id": "N9zGnPwyUgCX"
      },
      "source": [
        "Initially splitting the dataset as train test. Then 4/9th of the train will be masked away in terms of its labels. \n",
        "Remaining will be labelled training set. Both in benchmark and co-training setups, they will be stratified into 5 folds with respect to their label distributions. "
      ]
    },
    {
      "cell_type": "code",
      "metadata": {
        "id": "BcojTQvyZvPK"
      },
      "source": [
        "train_val_trns, test_trns, train_val_lbl, test_lbl = train_test_split(all_youtube[\"transcripts\"], all_youtube[\"labels\"], test_size = 0.2, random_state = 94)\n",
        "labelled_val_trns, unlabelled_trns, labelled_val_lbl, _ = train_test_split(all_youtube[\"transcripts\"], all_youtube[\"labels\"], test_size = 4/9, random_state = 94)"
      ],
      "execution_count": null,
      "outputs": []
    },
    {
      "cell_type": "code",
      "metadata": {
        "colab": {
          "base_uri": "https://localhost:8080/"
        },
        "id": "lBZDRxxRbIw9",
        "outputId": "882b50ce-eded-4c11-b7a4-8d67d9e71f22"
      },
      "source": [
        "labelled_val_lbl.value_counts()"
      ],
      "execution_count": null,
      "outputs": [
        {
          "output_type": "execute_result",
          "data": {
            "text/plain": [
              "0    183\n",
              "1    138\n",
              "Name: labels, dtype: int64"
            ]
          },
          "metadata": {
            "tags": []
          },
          "execution_count": 14
        }
      ]
    },
    {
      "cell_type": "markdown",
      "metadata": {
        "id": "tYKmrL83cmwY"
      },
      "source": [
        "Here, the data we see has a ratio of 1.32. So, we can still go with the 3:2 ratio for negative and positive prediction ratios.  "
      ]
    },
    {
      "cell_type": "code",
      "metadata": {
        "id": "2QJfJbF-bGvy"
      },
      "source": [
        "rem_trns, val_fold1_trns, rem_lbl, val_fold1_lbl =  train_test_split(labelled_val_trns, labelled_val_lbl, test_size = 0.2, stratify = labelled_val_lbl, random_state = 94)\n",
        "rem_trns_2, val_fold2_trns, rem_lbl_2, val_fold2_lbl =  train_test_split(rem_trns, rem_lbl, test_size = 0.25, stratify = rem_lbl, random_state = 94)\n",
        "rem_trns_3, val_fold3_trns, rem_lbl_3, val_fold3_lbl =  train_test_split(rem_trns_2, rem_lbl_2, test_size = 0.33, stratify = rem_lbl_2, random_state = 94)\n",
        "val_fold5_trns, val_fold4_trns, val_fold5_lbl, val_fold4_lbl =  train_test_split(rem_trns_3, rem_lbl_3, test_size = 0.5, stratify = rem_lbl_3, random_state = 94)"
      ],
      "execution_count": null,
      "outputs": []
    },
    {
      "cell_type": "code",
      "metadata": {
        "colab": {
          "base_uri": "https://localhost:8080/"
        },
        "id": "--tx6Y7legkp",
        "outputId": "2b90b8d1-2ab8-4a28-ecca-d18637367869"
      },
      "source": [
        "print(val_fold1_trns.shape)\n",
        "print(val_fold2_trns.shape)\n",
        "print(val_fold3_trns.shape)\n",
        "print(val_fold4_trns.shape)\n",
        "print(val_fold5_trns.shape)"
      ],
      "execution_count": null,
      "outputs": [
        {
          "output_type": "stream",
          "text": [
            "(65,)\n",
            "(64,)\n",
            "(64,)\n",
            "(64,)\n",
            "(64,)\n"
          ],
          "name": "stdout"
        }
      ]
    },
    {
      "cell_type": "code",
      "metadata": {
        "id": "H7-mUL4prUXL"
      },
      "source": [
        "val_folds_trns_in_list = [val_fold1_trns, val_fold2_trns, val_fold3_trns, val_fold4_trns, val_fold5_trns]\n",
        "val_folds_lbl_in_list = [val_fold1_lbl, val_fold2_lbl, val_fold3_lbl, val_fold4_lbl, val_fold5_lbl]"
      ],
      "execution_count": null,
      "outputs": []
    },
    {
      "cell_type": "markdown",
      "metadata": {
        "id": "hk10PcbYqkpc"
      },
      "source": [
        "From now on, we are trying the co-training script to see whether it is working well. "
      ]
    },
    {
      "cell_type": "code",
      "metadata": {
        "id": "dE-psWOJrKKY"
      },
      "source": [
        "import os\n",
        "os.chdir(\"/content/drive/MyDrive/THESIS_May15\")"
      ],
      "execution_count": null,
      "outputs": []
    },
    {
      "cell_type": "code",
      "metadata": {
        "id": "kVRkloHfsF62"
      },
      "source": [
        "import co_training_script_benchmark_only as ctsb\n",
        "from gensim.models.doc2vec import Doc2Vec"
      ],
      "execution_count": null,
      "outputs": []
    },
    {
      "cell_type": "markdown",
      "metadata": {
        "id": "sdcDxF4IF_Eu"
      },
      "source": [
        "Running with the actual hyperparams, to tune for the hyperparameters"
      ]
    },
    {
      "cell_type": "code",
      "metadata": {
        "id": "F8lSzRnuF-bm"
      },
      "source": [
        "model_8 = Doc2Vec.load(\"d2v_model_embdsize_8.model\")\n",
        "model_24 = Doc2Vec.load(\"d2v_model_embdsize_24.model\")\n",
        "model_64 = Doc2Vec.load(\"d2v_model_embdsize_64.model\")\n",
        "model_256 = Doc2Vec.load(\"d2v_model_embdsize_256.model\")\n",
        "\n",
        "models = [model_8, model_24, model_64, model_256]\n",
        "feats_tfidf = [700, 1000, 2000, 4000]\n",
        "CC_cands = [0.1, 1, 10]"
      ],
      "execution_count": null,
      "outputs": []
    },
    {
      "cell_type": "code",
      "metadata": {
        "id": "6vKLL2F8EtkT"
      },
      "source": [
        "best_tfidf = -1\n",
        "best_doc2vec = -1\n",
        "best_tfidf_index = [-1] * 2\n",
        "best_doc2vec_index = [-1] * 2\n",
        "\n",
        "for iff, feat_tfidf in enumerate(feats_tfidf): \n",
        "  for ic, cc_val in enumerate(CC_cands): \n",
        "      \n",
        "      tfidf_f1 = ctsb.benchmark_SVM(val_folds_trns_in_list, val_folds_lbl_in_list, feat_tfidf, cc_val)\n",
        "      \n",
        "      if tfidf_f1 > best_tfidf: \n",
        "        best_tfidf = tfidf_f1\n",
        "        best_tfidf_index = [iff, ic]"
      ],
      "execution_count": null,
      "outputs": []
    },
    {
      "cell_type": "code",
      "metadata": {
        "id": "SHlqw5fod-55"
      },
      "source": [
        "for im, model in enumerate(models): \n",
        "  for ic, cc_val in enumerate(CC_cands): \n",
        "        \n",
        "    doc2vec_f1 = ctsb.benchmark_doc2vec(model, val_folds_trns_in_list, val_folds_lbl_in_list, cc_val) \n",
        "\n",
        "    if doc2vec_f1 > best_doc2vec: \n",
        "      best_doc2vec = doc2vec_f1\n",
        "      best_doc2vec_index = [im, ic]      "
      ],
      "execution_count": null,
      "outputs": []
    },
    {
      "cell_type": "code",
      "metadata": {
        "id": "j8Ta3krXE3kZ",
        "colab": {
          "base_uri": "https://localhost:8080/"
        },
        "outputId": "77a51070-245f-40b8-def4-61e3133ae9f3"
      },
      "source": [
        "print(best_tfidf)"
      ],
      "execution_count": null,
      "outputs": [
        {
          "output_type": "stream",
          "text": [
            "0.8326162446917162\n"
          ],
          "name": "stdout"
        }
      ]
    },
    {
      "cell_type": "code",
      "metadata": {
        "id": "3O88y_qZE6ek",
        "colab": {
          "base_uri": "https://localhost:8080/"
        },
        "outputId": "4b3f37f1-00cf-4fe5-b32c-2f1581d12c85"
      },
      "source": [
        "print(best_tfidf_index)"
      ],
      "execution_count": null,
      "outputs": [
        {
          "output_type": "stream",
          "text": [
            "[0, 1]\n"
          ],
          "name": "stdout"
        }
      ]
    },
    {
      "cell_type": "markdown",
      "metadata": {
        "id": "iXdetnfEwNGd"
      },
      "source": [
        "For TF-IDF classifier, best max_feats = 700 & best C value = 1"
      ]
    },
    {
      "cell_type": "code",
      "metadata": {
        "id": "N7luD26eE8m0",
        "colab": {
          "base_uri": "https://localhost:8080/"
        },
        "outputId": "8c0e77b9-cc37-4dc6-cb61-6f6b59b192bb"
      },
      "source": [
        "print(best_doc2vec)"
      ],
      "execution_count": null,
      "outputs": [
        {
          "output_type": "stream",
          "text": [
            "0.5089162919055003\n"
          ],
          "name": "stdout"
        }
      ]
    },
    {
      "cell_type": "code",
      "metadata": {
        "id": "zW6LKjbKE8dV",
        "colab": {
          "base_uri": "https://localhost:8080/"
        },
        "outputId": "b0ac8187-8ec1-4ddc-8124-ec85c65c6c31"
      },
      "source": [
        "print(best_doc2vec_index)"
      ],
      "execution_count": null,
      "outputs": [
        {
          "output_type": "stream",
          "text": [
            "[3, 1]\n"
          ],
          "name": "stdout"
        }
      ]
    },
    {
      "cell_type": "markdown",
      "metadata": {
        "id": "jCGEBnnVwn7B"
      },
      "source": [
        "For doc2vec classifier, best doc2vec model is the one with embeddings from 256-dim space and best C value =  1 "
      ]
    },
    {
      "cell_type": "markdown",
      "metadata": {
        "id": "LQkOQ0Ldwze3"
      },
      "source": [
        "Testing the performances of the classifiers"
      ]
    },
    {
      "cell_type": "code",
      "metadata": {
        "id": "reUKsx_Pud52"
      },
      "source": [
        "from sklearn.svm import SVC\n",
        "from sklearn.feature_extraction.text import TfidfVectorizer\n",
        "\n",
        "SVM_tfidf = SVC(C = 1, kernel = \"linear\")\n",
        "\n",
        "train_vect = TfidfVectorizer(max_features = 700)\n",
        "train_rep_tfidf = train_vect.fit_transform(labelled_val_trns)\n",
        "\n",
        "test_vect = TfidfVectorizer(max_features = 700)\n",
        "test_vect = test_vect.fit(labelled_val_trns)\n",
        "test_rep_tfidf = test_vect.transform(test_trns)"
      ],
      "execution_count": null,
      "outputs": []
    },
    {
      "cell_type": "code",
      "metadata": {
        "colab": {
          "base_uri": "https://localhost:8080/"
        },
        "id": "anHD4eCnykLK",
        "outputId": "ccdeb454-1f4b-436d-f518-a93f370ddf7f"
      },
      "source": [
        "from sklearn.metrics import f1_score\n",
        "\n",
        "SVM_tfidf.fit(train_rep_tfidf, labelled_val_lbl)\n",
        "test_pred_tfidf = SVM_tfidf.predict(test_rep_tfidf)\n",
        "print(f1_score(test_lbl, test_pred_tfidf))"
      ],
      "execution_count": null,
      "outputs": [
        {
          "output_type": "stream",
          "text": [
            "0.8\n"
          ],
          "name": "stdout"
        }
      ]
    },
    {
      "cell_type": "markdown",
      "metadata": {
        "id": "SRVMBTuWy_Jh"
      },
      "source": [
        "So this is the performance of the SVM trained off the TF-IDF representation"
      ]
    },
    {
      "cell_type": "code",
      "metadata": {
        "id": "_Gr7OSSTy9W4"
      },
      "source": [
        "from sklearn.svm import SVC\n",
        "import numpy as np\n",
        "\n",
        "SVM_doc2vec = SVC(C = 1, kernel = \"linear\")\n",
        "\n",
        "train_rep_doc2vec_list = []\n",
        "\n",
        "for i in range(labelled_val_trns.shape[0]):\n",
        "  \n",
        "  inf = model_256.infer_vector(labelled_val_trns.iloc[i])\n",
        "  train_rep_doc2vec_list.append(inf)\n",
        "\n",
        "train_rep_doc2vec = pd.DataFrame(np.vstack(train_rep_doc2vec_list))\n",
        "\n",
        "test_rep_doc2vec_list = []\n",
        "\n",
        "for i in range(test_trns.shape[0]):\n",
        "  \n",
        "  inf = model_256.infer_vector(test_trns.iloc[i])\n",
        "  test_rep_doc2vec_list.append(inf)\n",
        "\n",
        "test_rep_doc2vec = pd.DataFrame(np.vstack(test_rep_doc2vec_list))"
      ],
      "execution_count": null,
      "outputs": []
    },
    {
      "cell_type": "code",
      "metadata": {
        "colab": {
          "base_uri": "https://localhost:8080/"
        },
        "id": "Z8R0zwb-1DX_",
        "outputId": "6f947ffc-a718-4f82-d34b-735dd0185f96"
      },
      "source": [
        "from sklearn.metrics import f1_score\n",
        "\n",
        "SVM_doc2vec.fit(train_rep_doc2vec, labelled_val_lbl)\n",
        "test_pred_doc2vec = SVM_doc2vec.predict(test_rep_doc2vec)\n",
        "print(f1_score(test_lbl, test_pred_doc2vec))"
      ],
      "execution_count": null,
      "outputs": [
        {
          "output_type": "stream",
          "text": [
            "0.4507042253521127\n"
          ],
          "name": "stdout"
        }
      ]
    }
  ]
}